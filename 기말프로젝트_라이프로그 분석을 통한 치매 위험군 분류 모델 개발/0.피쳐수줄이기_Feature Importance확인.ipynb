{
 "cells": [
  {
   "cell_type": "code",
   "execution_count": 19,
   "id": "0290ff97-0321-4695-9e4e-ee6f52cd62c3",
   "metadata": {},
   "outputs": [],
   "source": [
    "import numpy as np\n",
    "import pandas as pd\n",
    "import seaborn as sns"
   ]
  },
  {
   "cell_type": "code",
   "execution_count": 20,
   "id": "62bfe2ee-7813-4797-b951-0f13a4a42dbb",
   "metadata": {},
   "outputs": [],
   "source": [
    "df = pd.read_csv(\"/Users/macbookair/Downloads/train.csv\")\n",
    "#df.head()"
   ]
  },
  {
   "cell_type": "code",
   "execution_count": 21,
   "id": "331ccae4-9621-4e41-9eb8-237b8bb9f826",
   "metadata": {},
   "outputs": [],
   "source": [
    "from sklearn.preprocessing import StandardScaler\n",
    "scaler = StandardScaler()"
   ]
  },
  {
   "cell_type": "code",
   "execution_count": 22,
   "id": "443c738b-ce0c-4c23-b5fc-4979a414ba9f",
   "metadata": {},
   "outputs": [],
   "source": [
    "from sklearn.ensemble import RandomForestClassifier"
   ]
  },
  {
   "cell_type": "code",
   "execution_count": 23,
   "id": "c2eb33bd-c6ca-4477-99cf-b2f9ffc5fba0",
   "metadata": {},
   "outputs": [],
   "source": [
    "df[\"DIAG_NM\"] = df.DIAG_NM.map({\"CN\":0, \"MCI\":1, 'Dem':2})"
   ]
  },
  {
   "cell_type": "markdown",
   "id": "930a7946-4720-4cfc-a2ec-8924b040b4fa",
   "metadata": {},
   "source": [
    "# 데이터를 4개의 그룹으로 나누기"
   ]
  },
  {
   "cell_type": "code",
   "execution_count": 24,
   "id": "8c351735-79a2-4daf-ab48-a6c18c790418",
   "metadata": {},
   "outputs": [],
   "source": [
    "X1 = df.loc[:, 'min_sleep_awake':'mean_sleep_hr_lowest'].values\n",
    "X2 = df.loc[:, 'median_sleep_hr_lowest':'max_sleep_rem'].values\n",
    "X3 = df.loc[:, 'mean_sleep_rem':'min_sleep_score_efficiency'].values\n",
    "X4 = df.loc[:, 'max_sleep_score_efficiency':'median_sleep_total'].values"
   ]
  },
  {
   "cell_type": "markdown",
   "id": "a33cbb83-a1be-4afa-9f13-dab6c6824932",
   "metadata": {},
   "source": [
    "# 표준화된 데이터"
   ]
  },
  {
   "cell_type": "code",
   "execution_count": 25,
   "id": "e2cccbc1-b6e5-4ec3-9d10-5c126cdf524e",
   "metadata": {},
   "outputs": [],
   "source": [
    "X1 = scaler.fit_transform(X1)\n",
    "X2 = scaler.fit_transform(X2)\n",
    "X3 = scaler.fit_transform(X3)\n",
    "X4 = scaler.fit_transform(X4)"
   ]
  },
  {
   "cell_type": "code",
   "execution_count": 26,
   "id": "0a062af8-7a04-472c-8579-bc278cfcaaca",
   "metadata": {},
   "outputs": [],
   "source": [
    "y = df['DIAG_NM'].values"
   ]
  },
  {
   "cell_type": "markdown",
   "id": "6261bf89-27b4-4a36-b3e2-69a09da927f3",
   "metadata": {},
   "source": [
    "\n",
    "# 모델을 훈련시키고 각 그룹에 대한 Feature Importance값을 계산합니다.\n"
   ]
  },
  {
   "cell_type": "code",
   "execution_count": 30,
   "id": "0054eee5-68c7-4b45-92de-f0fae54e671a",
   "metadata": {},
   "outputs": [
    {
     "name": "stdout",
     "output_type": "stream",
     "text": [
      "[0.03942591 0.03350262 0.03379789 0.04191898 0.03253369 0.02725622\n",
      " 0.03874872 0.04246012 0.05434427 0.03768081 0.0461531  0.03508917\n",
      " 0.03399553 0.03264654 0.04913901 0.05338154 0.03553653 0.0268211\n",
      " 0.03675946 0.03901307 0.03267417 0.03891358 0.03645536 0.02648227\n",
      " 0.02126182 0.04190438 0.03210415]\n"
     ]
    }
   ],
   "source": [
    "rf = RandomForestClassifier()\n",
    "rf.fit(X1, y)\n",
    "r1_importances = rf.feature_importances_\n",
    "print(r1_importances)"
   ]
  },
  {
   "cell_type": "code",
   "execution_count": null,
   "id": "60cc10f0-2e73-4be8-a14e-7cc9a3717efd",
   "metadata": {},
   "outputs": [],
   "source": []
  },
  {
   "cell_type": "code",
   "execution_count": 41,
   "id": "961baeae-0748-411e-b6c5-f27974584433",
   "metadata": {},
   "outputs": [
    {
     "name": "stdout",
     "output_type": "stream",
     "text": [
      "[0.04470803 0.         0.         0.         0.         0.05967493\n",
      " 0.0625917  0.05544778 0.04531723 0.0647165  0.05350336 0.0479576\n",
      " 0.0660041  0.04579898 0.04304079 0.04297721 0.05272682 0.02112616\n",
      " 0.04345267 0.04594168 0.04290128 0.         0.01541972 0.05225336\n",
      " 0.01187512 0.03840893 0.04415603]\n"
     ]
    }
   ],
   "source": [
    "rf = RandomForestClassifier()\n",
    "rf.fit(X2, y)\n",
    "r2_importances = rf.feature_importances_\n",
    "print(r2_importances)"
   ]
  },
  {
   "cell_type": "code",
   "execution_count": 42,
   "id": "f7159978-f87f-402c-91e8-70e1351c41f7",
   "metadata": {},
   "outputs": [
    {
     "name": "stdout",
     "output_type": "stream",
     "text": [
      "[0.04971658 0.05025696 0.03588358 0.05158386 0.03201735 0.0262326\n",
      " 0.02609242 0.04257952 0.04155163 0.04982737 0.04841536 0.0276161\n",
      " 0.0354816  0.03675953 0.04469755 0.         0.05979589 0.02262022\n",
      " 0.06373151 0.01499001 0.05085433 0.03581551 0.02512231 0.03456402\n",
      " 0.02929389 0.02670507 0.03779526]\n"
     ]
    }
   ],
   "source": [
    "rf = RandomForestClassifier()\n",
    "rf.fit(X3, y)\n",
    "r3_importances = rf.feature_importances_\n",
    "print(r3_importances)"
   ]
  },
  {
   "cell_type": "code",
   "execution_count": null,
   "id": "43ba73ef-2aad-430d-89b5-cfbe20ae2e85",
   "metadata": {},
   "outputs": [],
   "source": []
  },
  {
   "cell_type": "code",
   "execution_count": 43,
   "id": "f315d42b-e651-40dc-a439-7e5dba1ab9ac",
   "metadata": {},
   "outputs": [
    {
     "name": "stdout",
     "output_type": "stream",
     "text": [
      "[0.02412623 0.05273946 0.04294233 0.03058731 0.00564906 0.05397164\n",
      " 0.02753876 0.02828317 0.02694254 0.04374386 0.04754177 0.02554162\n",
      " 0.01266087 0.04235912 0.04365657 0.03695575 0.02694445 0.0402599\n",
      " 0.03286909 0.03095392 0.04980412 0.04590148 0.03309517 0.04468241\n",
      " 0.05224832 0.04330992 0.05469115]\n"
     ]
    }
   ],
   "source": [
    "rf = RandomForestClassifier()\n",
    "rf.fit(X4, y)\n",
    "r4_importances = rf.feature_importances_\n",
    "print(r4_importances)"
   ]
  },
  {
   "cell_type": "code",
   "execution_count": null,
   "id": "2ac315f3-d0f3-4830-bb22-9b6add3447f0",
   "metadata": {},
   "outputs": [],
   "source": []
  },
  {
   "cell_type": "code",
   "execution_count": null,
   "id": "471ff682-c5bc-4c69-a3cf-d3ccb0c72d17",
   "metadata": {},
   "outputs": [],
   "source": []
  },
  {
   "cell_type": "code",
   "execution_count": null,
   "id": "11318812-f29f-48cc-aa42-536bc104466f",
   "metadata": {},
   "outputs": [],
   "source": []
  }
 ],
 "metadata": {
  "kernelspec": {
   "display_name": "Python 3 (ipykernel)",
   "language": "python",
   "name": "python3"
  },
  "language_info": {
   "codemirror_mode": {
    "name": "ipython",
    "version": 3
   },
   "file_extension": ".py",
   "mimetype": "text/x-python",
   "name": "python",
   "nbconvert_exporter": "python",
   "pygments_lexer": "ipython3",
   "version": "3.9.12"
  }
 },
 "nbformat": 4,
 "nbformat_minor": 5
}
